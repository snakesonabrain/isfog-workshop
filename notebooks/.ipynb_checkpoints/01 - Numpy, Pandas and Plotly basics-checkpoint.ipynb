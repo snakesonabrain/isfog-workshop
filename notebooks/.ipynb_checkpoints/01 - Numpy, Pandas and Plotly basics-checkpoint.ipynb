{
 "cells": [
  {
   "cell_type": "markdown",
   "metadata": {},
   "source": [
    "# Numpy, Pandas and Plotly basics\n",
    "\n",
    "Numpy is one of the most useful packages for engineering calculations and mastering some of its syntax can greatly improve your coding efficiency. Formulae written with Numpy are much more compact and readable than doing the same tasks in Excel. Although it may not seem like much, Numpy will make your code faster and easier to read. Guess which one Numpy is in the picture below. \n",
    "\n",
    "<img src=\"Images/faster_slower.jpg\">\n",
    "\n",
    "Together with the Pandas package for data manipulation and Plotly for data visualisation, a very strong foundation for data science in Python is available. In this notebook, some highlights of the three packages are presented."
   ]
  },
  {
   "cell_type": "markdown",
   "metadata": {},
   "source": [
    "## The advantages of using Numpy illustrated\n",
    "\n",
    "Numpy arrays are lists of values. They behave like ordinary Python lists, but have the added advantage that you can use them to do array operations with a single-line statement. Have a look at the following example:"
   ]
  },
  {
   "cell_type": "code",
   "execution_count": null,
   "metadata": {},
   "outputs": [],
   "source": [
    "import numpy as np # Always import numpy first"
   ]
  },
  {
   "cell_type": "code",
   "execution_count": null,
   "metadata": {},
   "outputs": [],
   "source": [
    "a = [1.0, 2.0, 3.0]\n",
    "b = [3.0, 2.0, 1.0]\n",
    "a ** b"
   ]
  },
  {
   "cell_type": "code",
   "execution_count": null,
   "metadata": {},
   "outputs": [],
   "source": [
    "a = np.array([1.0, 2.0, 3.0])\n",
    "b = np.array([3.0, 2.0, 1.0])\n",
    "a ** b"
   ]
  },
  {
   "cell_type": "markdown",
   "metadata": {},
   "source": [
    "We have two arrays and we want to elevate the first array to the power of the second, element by element. If we use Python lists, we get an error because this behaviour is not implemented for lists. But if we define the lists as Numpy arrays (just use the ```np.array()``` function which takes a list as argument), Numpy's magic makes it work."
   ]
  },
  {
   "cell_type": "markdown",
   "metadata": {},
   "source": [
    "Numpy arrays also have a number of useful functions which you can apply on the array:"
   ]
  },
  {
   "cell_type": "code",
   "execution_count": null,
   "metadata": {},
   "outputs": [],
   "source": [
    "a = np.array([1.0, 2.0, 3.0])\n",
    "a.sum()"
   ]
  },
  {
   "cell_type": "code",
   "execution_count": null,
   "metadata": {},
   "outputs": [],
   "source": [
    "a.std()"
   ]
  },
  {
   "cell_type": "code",
   "execution_count": null,
   "metadata": {},
   "outputs": [],
   "source": [
    "a.mean()"
   ]
  },
  {
   "cell_type": "code",
   "execution_count": null,
   "metadata": {},
   "outputs": [],
   "source": [
    "a.max()"
   ]
  },
  {
   "cell_type": "code",
   "execution_count": null,
   "metadata": {},
   "outputs": [],
   "source": [
    "b = np.array([3.0, 2.0, 1.0])\n",
    "b.sort()\n",
    "b"
   ]
  },
  {
   "cell_type": "markdown",
   "metadata": {},
   "source": [
    "and [many more](https://docs.scipy.org/doc/numpy-1.15.4/reference/arrays.ndarray.html#calculation)."
   ]
  },
  {
   "cell_type": "markdown",
   "metadata": {},
   "source": [
    "## Creating Numpy arrays\n",
    "\n",
    "Creating Numpy arrays is often a first step in a workflow and there are a number of standard ways to do this.\n",
    "\n",
    "   a) ```np.linspace(<min>, <max>, <noelements>)```: Creating a list of values of given length, linearly increasing between a minimum and a maximum: "
   ]
  },
  {
   "cell_type": "code",
   "execution_count": null,
   "metadata": {},
   "outputs": [],
   "source": [
    "np.linspace(0.0, 10.0, 11)"
   ]
  },
  {
   "cell_type": "markdown",
   "metadata": {},
   "source": [
    "   b) ```np.arange(<min>, <max>, <step>)```: Creating a list of values between the minimum (included) and maximum (not included). The following example includes even values between 0 and 10."
   ]
  },
  {
   "cell_type": "code",
   "execution_count": null,
   "metadata": {},
   "outputs": [],
   "source": [
    "np.arange(0, 10, 2)"
   ]
  },
  {
   "cell_type": "markdown",
   "metadata": {},
   "source": [
    "This also works with dates which is pretty cool! We just need to tell Numpy that we are working with days ```datetime[D]``` objects by specifying the ```dtype``` keyword argument."
   ]
  },
  {
   "cell_type": "code",
   "execution_count": null,
   "metadata": {},
   "outputs": [],
   "source": [
    "np.arange('2019-02-01', '2019-03-01', dtype='datetime64[D]')"
   ]
  },
  {
   "cell_type": "markdown",
   "metadata": {},
   "source": [
    "   c) ```np.logspace(<log_min>, <log_max>, <noelements>)```: Create a list of values of given length, logarithmically increasing between the logarithm of the minimum and the logarithm of the maximum. This is very useful when there is a linear dependency on the logarithm of the variable under investigation."
   ]
  },
  {
   "cell_type": "code",
   "execution_count": null,
   "metadata": {},
   "outputs": [],
   "source": [
    "np.logspace(0.0, 2.0, 21)"
   ]
  },
  {
   "cell_type": "markdown",
   "metadata": {},
   "source": [
    "   d) Creating a Numpy array from a given list:"
   ]
  },
  {
   "cell_type": "code",
   "execution_count": null,
   "metadata": {},
   "outputs": [],
   "source": [
    "a = [0.0, 1.0, 2.2, 3.4]\n",
    "np.array(a)"
   ]
  },
  {
   "cell_type": "markdown",
   "metadata": {},
   "source": [
    "   e) Create a Numpy array containing a given number of zeros"
   ]
  },
  {
   "cell_type": "code",
   "execution_count": null,
   "metadata": {},
   "outputs": [],
   "source": [
    "np.zeros(10)"
   ]
  },
  {
   "cell_type": "markdown",
   "metadata": {},
   "source": [
    "   f) Create a Numpy array containing a given number of ones"
   ]
  },
  {
   "cell_type": "code",
   "execution_count": null,
   "metadata": {},
   "outputs": [],
   "source": [
    "np.ones(10)"
   ]
  },
  {
   "cell_type": "markdown",
   "metadata": {},
   "source": [
    "## Working with Pandas\n",
    "\n",
    "Numpy is often used hand-in-hand with Pandas, a Python package aimed specifically at data manipulation. Pandas is the go-to package for importing data from various file formats such as .csv, .txt, .xlsx ...\n",
    "\n",
    "The Pandas ``DataFrame`` is essential for working with data, you can think of it like a table with rows and columns.\n",
    "\n",
    "### Data import\n",
    "\n",
    "As an example, we will import a file with soil descriptions from the Borssele offshore wind farm area (RVO.nl) from Excel using the ``read_excel`` method."
   ]
  },
  {
   "cell_type": "code",
   "execution_count": null,
   "metadata": {},
   "outputs": [],
   "source": [
    "import pandas as pd # Import the library first"
   ]
  },
  {
   "cell_type": "code",
   "execution_count": null,
   "metadata": {},
   "outputs": [],
   "source": [
    "soildescriptions = pd.read_excel('Data/soil_descriptions.xlsx')"
   ]
  },
  {
   "cell_type": "markdown",
   "metadata": {},
   "source": [
    "The data has now been imported to the variable ``soildescriptions``. We can check its content by printing the first five row to the notebook using the ``head`` method:"
   ]
  },
  {
   "cell_type": "code",
   "execution_count": null,
   "metadata": {},
   "outputs": [],
   "source": [
    "soildescriptions.head()"
   ]
  },
  {
   "cell_type": "markdown",
   "metadata": {},
   "source": [
    "We can see that the soil descriptions are organised per layer and per location. Pandas allow us to manipulate this data with an easy and straightforward syntax.\n",
    "\n",
    "### Data manipulations\n",
    "\n",
    "#### Location count\n",
    "\n",
    "We can display the locations in the dataframe. We access the location column by writing the column name between square brackets and then apply the ``unique`` method."
   ]
  },
  {
   "cell_type": "code",
   "execution_count": null,
   "metadata": {},
   "outputs": [],
   "source": [
    "soildescriptions['Location'].unique()"
   ]
  },
  {
   "cell_type": "markdown",
   "metadata": {},
   "source": [
    "We can count the number of locations with the Python ``__len__`` method which gives the length of the list:"
   ]
  },
  {
   "cell_type": "code",
   "execution_count": null,
   "metadata": {},
   "outputs": [],
   "source": [
    "soildescriptions['Location'].unique().__len__()"
   ]
  },
  {
   "cell_type": "markdown",
   "metadata": {},
   "source": [
    "This shows that there are 16 locations in the dataframe."
   ]
  },
  {
   "cell_type": "markdown",
   "metadata": {},
   "source": [
    "### Data slicing\n",
    "\n",
    "We can retrieve the data for a selected location (e.g. BH-WFS2-5). We retrieve the data where the Location column equals the selected location."
   ]
  },
  {
   "cell_type": "code",
   "execution_count": null,
   "metadata": {},
   "outputs": [],
   "source": [
    "soildescriptions[soildescriptions['Location'] == 'BH-WFS2-5']"
   ]
  },
  {
   "cell_type": "markdown",
   "metadata": {},
   "source": [
    "Slicing can also happen on other properties, for example we can print the layers which are Soil unit A for all locations:"
   ]
  },
  {
   "cell_type": "code",
   "execution_count": null,
   "metadata": {},
   "outputs": [],
   "source": [
    "soildescriptions[soildescriptions['Soil unit'] == 'A']"
   ]
  },
  {
   "cell_type": "markdown",
   "metadata": {},
   "source": [
    "From this data, we can retrieve the minimum and maximum depth of Soil unit A. We access the ``Depth to [m]`` column from the previous result and use the ``min`` and ``max`` method to obtain this result."
   ]
  },
  {
   "cell_type": "code",
   "execution_count": null,
   "metadata": {},
   "outputs": [],
   "source": [
    "soildescriptions[soildescriptions['Soil unit'] == 'A']['Depth to [m]'].min()"
   ]
  },
  {
   "cell_type": "code",
   "execution_count": null,
   "metadata": {},
   "outputs": [],
   "source": [
    "soildescriptions[soildescriptions['Soil unit'] == 'A']['Depth to [m]'].max()"
   ]
  },
  {
   "cell_type": "markdown",
   "metadata": {},
   "source": [
    "### Calculations with Pandas dataframes\n",
    "\n",
    "We can calculate with Pandas columns the same way as we do with Numpy arrays. For example, the center depth of each layer can be calculated and assigned to a new column ``Depth center [m]``:"
   ]
  },
  {
   "cell_type": "code",
   "execution_count": null,
   "metadata": {},
   "outputs": [],
   "source": [
    "soildescriptions['Depth center [m]'] = \\\n",
    "    0.5 * (soildescriptions['Depth from [m]'] + soildescriptions['Depth to [m]'])\n",
    "soildescriptions.head()"
   ]
  },
  {
   "cell_type": "markdown",
   "metadata": {},
   "source": [
    "This shows how an equation can be applied to each row by just writing the formula for the columns. This can be applied for any mathematical formula."
   ]
  },
  {
   "cell_type": "markdown",
   "metadata": {},
   "source": [
    "## Plotting with plotly\n",
    "\n",
    "Plotly is a Python package for data visualisation which allows the creation of interactive plots which are rendered in the browser. Plotly can plot line diagrams and scatterplots with a simple and compact syntax."
   ]
  },
  {
   "cell_type": "code",
   "execution_count": null,
   "metadata": {},
   "outputs": [],
   "source": [
    "from plotly import subplots\n",
    "import plotly.graph_objs as go"
   ]
  },
  {
   "cell_type": "markdown",
   "metadata": {},
   "source": [
    "The following examples show the creation of the plot with comments explaining each step. Note that an even more compact syntax is available using Plotly Express. The longer syntax is used here since it will be used in the machine learning demos.\n",
    "\n",
    "### Line plot"
   ]
  },
  {
   "cell_type": "code",
   "execution_count": null,
   "metadata": {},
   "outputs": [],
   "source": [
    "fig = subplots.make_subplots(rows=1, cols=1, print_grid=False) # Create a Plotly Figure with 1 row and 1 column\n",
    "_data = go.Scatter(       # Create a Scatter trace with x and y data\n",
    "    x=[0.0, 1.0, 2.0],    # Specify the x-coordinates of the points, a list is used but Pandas columns are allowed\n",
    "    y=[0.0, 1.0, 2.0],    # Specify the y-coordinates of the points, a list is used but Pandas columns are allowed\n",
    "    showlegend=True,      # Select False for hiding the legend, True for showing it\n",
    "    mode='lines',         # Use the mode 'lines' to show a line connecting the points\n",
    "    name='Trace 1')       # Name the trace\n",
    "fig.append_trace(_data, 1, 1)   # Append the trace to the first row and first column of the figure\n",
    "fig['layout']['xaxis1'].update(title='X axis title', range=(0, 2)) # Specify the x-axis title and range\n",
    "fig['layout']['yaxis1'].update(title='Y axis title', range=(0, 2)) # Specify the y-axis title and range\n",
    "fig['layout'].update(title='Figure title')           # Specify the figure title\n",
    "fig.show()                # Display the figure"
   ]
  },
  {
   "cell_type": "markdown",
   "metadata": {},
   "source": [
    "### Scatterplot\n",
    "\n",
    "The syntax for showing the points without a connecting line is almost identical."
   ]
  },
  {
   "cell_type": "code",
   "execution_count": null,
   "metadata": {},
   "outputs": [],
   "source": [
    "fig = subplots.make_subplots(rows=1, cols=1, print_grid=False) # Create a Plotly Figure with 1 row and 1 column\n",
    "_data = go.Scatter(       # Create a Scatter trace with x and y data\n",
    "    x=[0.0, 1.0, 2.0],    # Specify the x-coordinates of the points, a list is used but Pandas columns are allowed\n",
    "    y=[0.0, 1.0, 2.0],    # Specify the y-coordinates of the points, a list is used but Pandas columns are allowed\n",
    "    showlegend=True,      # Select False for hiding the legend, True for showing it\n",
    "    mode='markers',       # Use the mode 'markers' to only show the points\n",
    "    name='Trace 1')       # Name the trace\n",
    "fig.append_trace(_data, 1, 1)   # Append the trace to the first row and first column of the figure\n",
    "fig['layout']['xaxis1'].update(title='X axis title', range=(0, 2)) # Specify the x-axis title and range\n",
    "fig['layout']['yaxis1'].update(title='Y axis title', range=(0, 2)) # Specify the y-axis title and range\n",
    "fig['layout'].update(title='Figure title')           # Specify the figure title\n",
    "fig.show()                # Display the figure"
   ]
  },
  {
   "cell_type": "markdown",
   "metadata": {},
   "source": [
    "You can hover of the figure to inspect the data and zoom by clicking and dragging on the figure."
   ]
  },
  {
   "cell_type": "markdown",
   "metadata": {
    "collapsed": true
   },
   "source": [
    "## Acknowledgements\n",
    "\n",
    "The data from the Borssele offshore wind farm area was obtain from RVO.nl and is used under a Creative Commons license."
   ]
  },
  {
   "cell_type": "code",
   "execution_count": null,
   "metadata": {},
   "outputs": [],
   "source": []
  }
 ],
 "metadata": {
  "hide_input": false,
  "kernelspec": {
   "display_name": "Python 3",
   "language": "python",
   "name": "python3"
  },
  "language_info": {
   "codemirror_mode": {
    "name": "ipython",
    "version": 3
   },
   "file_extension": ".py",
   "mimetype": "text/x-python",
   "name": "python",
   "nbconvert_exporter": "python",
   "pygments_lexer": "ipython3",
   "version": "3.7.6"
  },
  "toc": {
   "base_numbering": 1,
   "nav_menu": {},
   "number_sections": true,
   "sideBar": true,
   "skip_h1_title": true,
   "title_cell": "Table of Contents",
   "title_sidebar": "Contents",
   "toc_cell": false,
   "toc_position": {},
   "toc_section_display": true,
   "toc_window_display": true
  }
 },
 "nbformat": 4,
 "nbformat_minor": 2
}
